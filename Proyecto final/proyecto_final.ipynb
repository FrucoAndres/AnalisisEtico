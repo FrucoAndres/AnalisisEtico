{
  "cells": [
    {
      "cell_type": "markdown",
      "metadata": {
        "id": "2aGNq6vlHG4B"
      },
      "source": [
        "# Avance de proyecto final - Clasificación de calidad de vinos\n"
      ]
    },
    {
      "cell_type": "code",
      "execution_count": null,
      "metadata": {
        "id": "SPUJ-FxCHG4C"
      },
      "outputs": [],
      "source": [
        "import io\n",
        "import zipfile\n",
        "from pathlib import Path\n",
        "from typing import Final\n",
        "\n",
        "import pandas as pd\n",
        "import requests"
      ]
    },
    {
      "cell_type": "markdown",
      "metadata": {
        "id": "bkJTK8B1HG4C"
      },
      "source": [
        "Para el presente trabajo, se están siguiendo las siguientes instrucciones:\n",
        "\n",
        "> El proyecto final estará enfocado en generar un dashboard interactivo. Por\n",
        "> ahora, para este avance se pide lo siguiente: Se debe encontrar un conjunto de\n",
        "> datos, plantear un problema y realizar un análisis exploratorio.\n",
        ">\n",
        "> Se debe entregar dos cosas:\n",
        ">\n",
        "> - Documento de máximo 2 páginas con formato IEEE, donde se indique: problema,\n",
        ">   link del conjunto de datos, análisis exploratorio, explicación de lo\n",
        ">   realizado en el avance y cuáles serán los siguientes pasos a realizar.\n",
        "> - Video de máximo 3 minutos, explicando el problema y la posible solución.\n",
        "\n",
        "Se estará empleados el siguiente\n",
        "[repositorio de datos](https://archive.ics.uci.edu/dataset/186/wine+quality).\n"
      ]
    },
    {
      "cell_type": "code",
      "execution_count": null,
      "metadata": {
        "id": "mteTTl1sHG4D"
      },
      "outputs": [],
      "source": [
        "dataset_url: Final[str] = (\n",
        "    \"https://archive.ics.uci.edu/static/public/186/wine+quality.zip\"\n",
        ")"
      ]
    },
    {
      "cell_type": "code",
      "execution_count": null,
      "metadata": {
        "id": "T9Lh8o18HG4D"
      },
      "outputs": [],
      "source": [
        "response = requests.get(\n",
        "    dataset_url,\n",
        "    timeout=10,\n",
        ")\n",
        "\n",
        "with zipfile.ZipFile(io.BytesIO(response.content)) as zip_file:\n",
        "    zip_file.extractall(\"data\")\n",
        "\n",
        "data_path: Final[Path] = Path(\"data\")\n",
        "files: list[Path] = [*data_path.iterdir()]\n",
        "\n",
        "if len(files) != 3:  # noqa: PLR2004\n",
        "    raise ValueError(\"Multiple files downloaded, expected only three\")  # noqa: EM101, TRY003\n",
        "\n",
        "raw_dataset_csv_paths: Final[list[Path]] = [\n",
        "    Path(\"raw_dataset_red.csv\"),\n",
        "    Path(\"raw_dataset_white.csv\"),\n",
        "]\n",
        "\n",
        "for raw_dataset_csv_path in raw_dataset_csv_paths:\n",
        "    if raw_dataset_csv_path.exists():\n",
        "        raw_dataset_csv_path.unlink()\n",
        "\n",
        "files[0].rename(raw_dataset_csv_paths[0])\n",
        "files[1].rename(raw_dataset_csv_paths[1])\n",
        "\n",
        "for file in files:\n",
        "    if file.exists():\n",
        "        file.unlink()\n",
        "\n",
        "data_path.rmdir()"
      ]
    },
    {
      "cell_type": "code",
      "execution_count": null,
      "metadata": {
        "id": "e_6m5bPrHG4D"
      },
      "outputs": [],
      "source": [
        "dfs = [\n",
        "    pd.read_csv(raw_dataset_csv_path, sep=\";\")\n",
        "    for raw_dataset_csv_path in raw_dataset_csv_paths\n",
        "]\n",
        "df = pd.concat(dfs, ignore_index=True)  # noqa: PD901"
      ]
    },
    {
      "cell_type": "markdown",
      "metadata": {
        "id": "9F9rJA_2HG4D"
      },
      "source": [
        "En los presentes datasets de [vino rojo](./raw_dataset_red.csv) y\n",
        "[vino blanco](./raw_dataset_white.csv) podemos encontrar las siguientes\n",
        "columnas:\n",
        "\n",
        "- `fixed-acidity`: Acidez fija del vino, medida en $\\text{g/dm} ^ 3$, influye en\n",
        "  su sabor y estabilidad.\n",
        "- `volatile-acidity`: Acidez volátil del vino, medida en $\\text{g/dm} ^ 3$,\n",
        "  niveles altos pueden generar sabores desagradables.\n",
        "- `citric-acid`: Ácido cítrico presente en el vino, medido en $\\text{g/dm} ^ 3$,\n",
        "  aporta frescura y estabilidad.\n",
        "- `residual-sugar`: Azúcar residual en el vino, medido en $\\text{g/dm} ^ 3$,\n",
        "  afecta el dulzor del producto final.\n",
        "- `chlorides`: Contenido de cloruros en el vino, medido en $\\text{g/dm} ^ 3$,\n",
        "  relacionado con la salinidad.\n",
        "- `free-sulfur-dioxide`: Dióxido de azufre libre en el vino, medido en\n",
        "  $\\text{mg/dm} ^ 3$, protege contra la oxidación y microorganismos.\n",
        "- `total-sulfur-dioxide`: Dióxido de azufre total en el vino, medido en\n",
        "  $\\text{mg/dm} ^ 3$, suma del $\\text{SO}_2$ libre y combinado.\n",
        "- `density`: Densidad del vino, medida en $\\text{g/cm} ^ 3$, depende del\n",
        "  contenido de azúcar y alcohol.\n",
        "- `pH`: Nivel de acidez o alcalinidad del vino, escala sin unidad, influye en su\n",
        "  estabilidad y sabor.\n",
        "- `sulphates`: Contenido de sulfatos en el vino, medido en $\\text{g/dm} ^ 3$,\n",
        "  afecta la conservación y aroma.\n",
        "- `alcohol`: Porcentaje de alcohol en el vino, expresado en $\\text{\\% vol}$,\n",
        "  influye en el cuerpo y sabor.\n",
        "- `quality`: Puntuación de calidad del vino, valor entre $0$ y $10$, basada en\n",
        "  evaluaciones sensoriales.\n"
      ]
    },
    {
      "cell_type": "markdown",
      "source": [],
      "metadata": {
        "id": "Sd51twezH37_"
      }
    }
  ],
  "metadata": {
    "kernelspec": {
      "display_name": ".venv",
      "language": "python",
      "name": "python3"
    },
    "language_info": {
      "codemirror_mode": {
        "name": "ipython",
        "version": 3
      },
      "file_extension": ".py",
      "mimetype": "text/x-python",
      "name": "python",
      "nbconvert_exporter": "python",
      "pygments_lexer": "ipython3",
      "version": "3.12.8"
    },
    "colab": {
      "provenance": []
    }
  },
  "nbformat": 4,
  "nbformat_minor": 0
}